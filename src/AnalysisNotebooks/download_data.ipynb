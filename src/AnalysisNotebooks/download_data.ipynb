{
 "cells": [
  {
   "cell_type": "code",
   "execution_count": 5,
   "id": "18d6cbde",
   "metadata": {},
   "outputs": [],
   "source": [
    "from urllib.request import urlretrieve"
   ]
  },
  {
   "cell_type": "code",
   "execution_count": 2,
   "id": "60b60d49",
   "metadata": {},
   "outputs": [],
   "source": [
    "url1='https://zenodo.org/records/3893508/files/ribfrac-train-images-1.zip?download=1'\n",
    "url2='https://zenodo.org/records/3893498/files/ribfrac-train-images-2.zip?download=1'\n",
    "url_val='https://zenodo.org/records/3893496/files/ribfrac-val-images.zip?download=1'\n",
    "url_test = 'https://zenodo.org/records/3993380/files/ribfrac-test-images.zip?download=1'"
   ]
  },
  {
   "cell_type": "code",
   "execution_count": 7,
   "id": "51dfe258",
   "metadata": {},
   "outputs": [
    {
     "data": {
      "text/plain": [
       "('ribfrac-train-images.zip', <http.client.HTTPMessage at 0x7fbaeefc4250>)"
      ]
     },
     "execution_count": 7,
     "metadata": {},
     "output_type": "execute_result"
    }
   ],
   "source": [
    "urlretrieve(url1,\"ribfrac-train-images.zip\")"
   ]
  },
  {
   "cell_type": "code",
   "execution_count": 1,
   "id": "ccd6405f",
   "metadata": {},
   "outputs": [],
   "source": [
    "import os\n",
    "import zipfile\n",
    "\n",
    "def zip_zipped_files(folder_path, zip_path):\n",
    "    with zipfile.ZipFile(zip_path, 'w', zipfile.ZIP_STORED) as zipf:\n",
    "        for root, _, files in os.walk(folder_path):\n",
    "            for file in files:\n",
    "                file_path = os.path.join(root, file)\n",
    "                zipf.write(file_path, os.path.relpath(file_path, folder_path))\n",
    "\n",
    "# Example usage:\n",
    "folder_path = '/workspace/RibCage/val-segmented_ribfrac'\n",
    "zip_path = '/workspace/RibCage/archive.zip'\n",
    "\n",
    "zip_zipped_files(folder_path, zip_path)\n"
   ]
  },
  {
   "cell_type": "code",
   "execution_count": null,
   "id": "5ec15a87",
   "metadata": {},
   "outputs": [],
   "source": []
  }
 ],
 "metadata": {
  "kernelspec": {
   "display_name": "Python 3 (ipykernel)",
   "language": "python",
   "name": "python3"
  },
  "language_info": {
   "codemirror_mode": {
    "name": "ipython",
    "version": 3
   },
   "file_extension": ".py",
   "mimetype": "text/x-python",
   "name": "python",
   "nbconvert_exporter": "python",
   "pygments_lexer": "ipython3",
   "version": "3.7.11"
  }
 },
 "nbformat": 4,
 "nbformat_minor": 5
}
