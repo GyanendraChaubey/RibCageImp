{
 "cells": [
  {
   "cell_type": "code",
   "execution_count": 2,
   "id": "a476dc28-58ce-44a9-bce6-37407bc2b196",
   "metadata": {},
   "outputs": [
    {
     "data": {
      "application/vnd.jupyter.widget-view+json": {
       "model_id": "3b282429fb844603918136d22829105f",
       "version_major": 2,
       "version_minor": 0
      },
      "text/plain": [
       "interactive(children=(IntSlider(value=63, description='slice_index', max=127), Output()), _dom_classes=('widge…"
      ]
     },
     "metadata": {},
     "output_type": "display_data"
    }
   ],
   "source": [
    "import nibabel as nib\n",
    "import numpy as np\n",
    "import matplotlib.pyplot as plt\n",
    "from ipywidgets import interact\n",
    "\n",
    "# Load the NIfTI file\n",
    "nifti_file = '/workspace/RibCage/resized_samples/resized_label_sample.nii.gz'\n",
    "nifti_image = nib.load(nifti_file)\n",
    "ct_volume = nifti_image.get_fdata()  # Get the image data as a NumPy array\n",
    "\n",
    "# Function to display a single axial slice\n",
    "def show_axial_slice(slice_index):\n",
    "    plt.imshow(ct_volume[:, :, slice_index], cmap='gray')\n",
    "    plt.title(f'Axial Slice {slice_index}')\n",
    "    plt.axis('off')\n",
    "    plt.show()\n",
    "\n",
    "# Interactive slider to browse through axial slices\n",
    "interact(show_axial_slice, slice_index=(0, ct_volume.shape[2] - 1));"
   ]
  },
  {
   "cell_type": "code",
   "execution_count": 2,
   "id": "294e3079-a0f1-41a1-83e1-ab42f797b8ef",
   "metadata": {},
   "outputs": [
    {
     "data": {
      "application/vnd.jupyter.widget-view+json": {
       "model_id": "0447949266e14d8982ee05eb16b750c0",
       "version_major": 2,
       "version_minor": 0
      },
      "text/plain": [
       "interactive(children=(IntSlider(value=162, description='slice_index', max=324), Output()), _dom_classes=('widg…"
      ]
     },
     "metadata": {},
     "output_type": "display_data"
    }
   ],
   "source": [
    "import nibabel as nib\n",
    "import numpy as np\n",
    "import matplotlib.pyplot as plt\n",
    "from ipywidgets import interact\n",
    "\n",
    "# Load the NIfTI file\n",
    "nifti_file = '/workspace/RibCage/val-segmented_ribfrac/RibFrac421-image.nii.gz'\n",
    "nifti_image = nib.load(nifti_file)\n",
    "ct_volume = nifti_image.get_fdata()  # Get the image data as a NumPy array\n",
    "\n",
    "# Function to display a single axial slice\n",
    "def show_axial_slice(slice_index):\n",
    "    plt.imshow(ct_volume[:, :, slice_index], cmap='gray')\n",
    "    plt.title(f'Axial Slice {slice_index}')\n",
    "    plt.axis('off')\n",
    "    plt.show()\n",
    "\n",
    "# Interactive slider to browse through axial slices\n",
    "interact(show_axial_slice, slice_index=(0, ct_volume.shape[2] - 1));"
   ]
  },
  {
   "cell_type": "code",
   "execution_count": null,
   "id": "d777ab89-f474-45fc-8cd2-12c4fe10c9ed",
   "metadata": {},
   "outputs": [],
   "source": []
  }
 ],
 "metadata": {
  "kernelspec": {
   "display_name": "Python 3 (ipykernel)",
   "language": "python",
   "name": "python3"
  },
  "language_info": {
   "codemirror_mode": {
    "name": "ipython",
    "version": 3
   },
   "file_extension": ".py",
   "mimetype": "text/x-python",
   "name": "python",
   "nbconvert_exporter": "python",
   "pygments_lexer": "ipython3",
   "version": "3.10.13"
  }
 },
 "nbformat": 4,
 "nbformat_minor": 5
}
